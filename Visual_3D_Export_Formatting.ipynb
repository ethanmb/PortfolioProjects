{
  "nbformat": 4,
  "nbformat_minor": 0,
  "metadata": {
    "colab": {
      "name": "Visual 3D Export Formatting.ipynb",
      "provenance": [],
      "collapsed_sections": [],
      "authorship_tag": "ABX9TyNg9f8xGk21KQFz0MbMzyV0",
      "include_colab_link": false
    },
    "kernelspec": {
      "name": "python3",
      "display_name": "Python 3"
    },
    "language_info": {
      "name": "python"
    }
  },
  "cells": [
    {
      "cell_type": "markdown",
      "metadata": {
        "id": "view-in-github",
        "colab_type": "text"
      },
      "source": [
        "<a href=\"https://colab.research.google.com/github/ethanmb/Visual3D-Export-Formatting/blob/main/Visual_3D_Export_Formatting.ipynb\" target=\"_parent\"><img src=\"https://colab.research.google.com/assets/colab-badge.svg\" alt=\"Open In Colab\"/></a>"
      ]
    },
    {
      "cell_type": "markdown",
      "source": [
        "# Instructions to run!\n",
        "****************\n",
        "RUNNING PIPELINE\n",
        "****************\n",
        "\n",
        "You must export to a .json file w/ shortened filenames\n",
        "  - Note, you can import any signals you want to export and the script should parse and export them to CSV, and place 0s for missing data in other trials so data lines up properly\n",
        "  - You can name the .json whatever you like, make sure you select a new file path to save to in\n",
        "\n",
        "****************\n",
        "RUNNING SCRIPT\n",
        "****************\n",
        "\n",
        "\n",
        "1.   Click on the folder icon on the left hand side.\n",
        "2.   Drag your JSON file over to the left hand side.\n",
        "3.   Change the cell below to the name of your JSON file.\n",
        "4.   Click the play button on each cell, and inside the folder your new CSV file should appear. \n",
        "\n",
        "Download the file and away you go!"
      ],
      "metadata": {
        "id": "ZdI3F_PyV5D2"
      }
    },
    {
      "cell_type": "code",
      "source": [
        "filename = \"test.json\" #change this filename"
      ],
      "metadata": {
        "id": "gETGmbQ_WA64"
      },
      "execution_count": null,
      "outputs": []
    },
    {
      "cell_type": "code",
      "execution_count": 3,
      "metadata": {
        "id": "pP-agy_oVTCP"
      },
      "outputs": [],
      "source": [
        "import json\n",
        "import csv\n",
        "\n",
        "prevFile = \"\"\n",
        "currentTrial = {}\n",
        "trialNumbers = []\n",
        "master = []\n",
        "headerHolder = []\n",
        "trialInt = 0\n",
        "\n",
        "#opens csv to write to\n",
        "\n",
        "\n",
        "jsonToRead = filename\n",
        "csvToWrite = filename.replace(\".json\", \".csv\")\n",
        "\n",
        "with open (csvToWrite, \"w\") as x:\n",
        "    thewriter = csv.writer(x)\n",
        "\n",
        "    #opens json to read from\n",
        "    with open (jsonToRead, \"r\") as f:\n",
        "        exportedFile = json.load(f)\n",
        "        exportedFile = exportedFile[\"Visual3D\"]\n",
        "\n",
        "        #iterates through every piece of data exported\n",
        "        trialInt = 0\n",
        "        for trials in exportedFile:\n",
        "            trialName = trials[\"filename\"]\n",
        "            measurementType = trials[\"name\"]\n",
        "            signal = trials[\"signal\"]\n",
        "            #looks to see if we're still on same trial, as each piece of data is exported seperately, so you have multiple for the same trial\n",
        "            if (prevFile != trialName):\n",
        "                master.append({\"trialName\":trialName.replace(\".c3d\", \"\")})\n",
        "                trialNameReal = trialName.replace(\".c3d\", \"\")\n",
        "\n",
        "\n",
        "            trialInt = len(master) - 1\n",
        "            #iterate through signals\n",
        "            for data in signal:\n",
        "                component = data[\"component\"]\n",
        "                output = data[\"data\"]\n",
        "                master[trialInt][measurementType+component] = output\n",
        "                headerHolder.append(measurementType+component)\n",
        "                headerHolder = list(dict.fromkeys(headerHolder))\n",
        "\n",
        "            prevFile = trialName\n",
        "\n",
        "\n",
        "    headerHolder.sort()\n",
        "    headerHolder.insert(0, \"trialName\")\n",
        "    thewriter.writerow(headerHolder)\n",
        "\n",
        "    #anything with no data will now be 0\n",
        "    for x in master:\n",
        "        for key in headerHolder:\n",
        "            if key not in x:\n",
        "                x[key] = 0\n",
        "\n",
        "    #iterates through master list and writes to csv\n",
        "    for x in master:\n",
        "        #fixes trial name\n",
        "        trialName = x[\"trialName\"]\n",
        "        trialNameReal = trialName.replace(\".c3d\", \"\")\n",
        "\n",
        "        holder = []\n",
        "\n",
        "        #removes brackets and '' from data\n",
        "        for key in headerHolder:\n",
        "            z = str(x[key])\n",
        "            z = z.replace(\"[\", \"\")\n",
        "            z = z.replace(\"]\", \"\")\n",
        "            z = z.replace(\"'\", \"\")\n",
        "            holder.append(z)\n",
        "\n",
        "        thewriter.writerow(holder)"
      ]
    }
  ]
}
